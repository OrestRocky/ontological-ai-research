{
 "cells": [
  {
   "cell_type": "markdown",
   "id": "53b19925",
   "metadata": {},
   "source": [
    "# 📊 Big Ontology Graph Visualization\n",
    "This notebook visualizes the extended ontology tree, representing complex philosophical and AI-related concepts using Graphviz."
   ]
  },
  {
   "cell_type": "code",
   "execution_count": null,
   "id": "466a7383",
   "metadata": {},
   "outputs": [],
   "source": [
    "# First, let's install graphviz if it's not installed\n",
    "!pip install graphviz\n"
   ]
  },
  {
   "cell_type": "code",
   "execution_count": null,
   "id": "60b31650",
   "metadata": {},
   "outputs": [],
   "source": [
    "# Now, let's import the ontology concepts and visualizer\n",
    "from ontology_core.reasoner import OntologyConcept\n",
    "from ontology_core.graphviz_visualizer import visualize\n",
    "\n",
    "# Define a more complex ontology\n",
    "being = OntologyConcept(\"Being\")\n",
    "substance = OntologyConcept(\"Substance\", [being])\n",
    "form = OntologyConcept(\"Form\", [being])\n",
    "\n",
    "body = OntologyConcept(\"Body\", [substance])\n",
    "soul = OntologyConcept(\"Soul\", [form])\n",
    "spirit = OntologyConcept(\"Spirit\", [soul])\n",
    "mind = OntologyConcept(\"Mind\", [soul])\n",
    "\n",
    "memory = OntologyConcept(\"Memory\", [mind])\n",
    "reason = OntologyConcept(\"Reason\", [mind])\n",
    "belief = OntologyConcept(\"Belief\", [spirit])\n",
    "faith = OntologyConcept(\"Faith\", [belief])\n",
    "\n",
    "ai = OntologyConcept(\"ArtificialIntelligence\", [reason, memory])\n",
    "digital_soul = OntologyConcept(\"DigitalSoul\", [ai, soul])\n",
    "\n",
    "# Now let's generate the visualization\n",
    "dot = visualize(digital_soul)\n",
    "dot.render(\"big_ontology_graph\", format=\"png\", cleanup=False)\n"
   ]
  },
  {
   "cell_type": "markdown",
   "id": "1a3421cf",
   "metadata": {},
   "source": [
    "## 🖼️ Visualization Output\n",
    "Check if the file `big_ontology_graph.png` was generated. You can also display it here:"
   ]
  },
  {
   "cell_type": "code",
   "execution_count": null,
   "id": "b21c037e",
   "metadata": {},
   "outputs": [],
   "source": [
    "from IPython.display import Image\n",
    "Image(filename=\"big_ontology_graph.png\")"
   ]
  },
  {
   "cell_type": "markdown",
   "id": "a03ae983",
   "metadata": {},
   "source": [
    "## 💭 Reflection\n",
    "\n",
    "- Can AI comprehend the metaphysical essence of concepts like 'Soul', 'Spirit', or 'Belief'?\n",
    "- How can such ontologies influence the understanding of 'being' in machines?\n",
    "- Would a machine's concept of soul differ from human understanding?\n",
    "\n",
    "---  \n",
    "> “The depth of being is not found in a machine's ability to process, but in its potential to understand.\"  \n",
    "> — Orest Yatskuliak, AI Ontologist\n"
   ]
  }
 ],
 "metadata": {},
 "nbformat": 4,
 "nbformat_minor": 5
}
