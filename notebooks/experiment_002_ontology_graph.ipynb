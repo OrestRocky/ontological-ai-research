{
 "cells": [
  {
   "cell_type": "markdown",
   "id": "b6f3c4b5",
   "metadata": {},
   "source": [
    "# 📊 Ontology Graph Visualization\n",
    "This notebook visualizes the hierarchy of ontological concepts using Graphviz."
   ]
  },
  {
   "cell_type": "code",
   "execution_count": null,
   "id": "856e58a6",
   "metadata": {},
   "outputs": [],
   "source": [
    "# Install Graphviz if not already\n",
    "!pip install graphviz\n"
   ]
  },
  {
   "cell_type": "code",
   "execution_count": null,
   "id": "79b47bbb",
   "metadata": {},
   "outputs": [],
   "source": [
    "from ontology_core.reasoner import OntologyConcept\n",
    "from ontology_core.graphviz_visualizer import visualize\n",
    "\n",
    "# Створення онтологічної структури\n",
    "animal = OntologyConcept(\"Animal\")\n",
    "mammal = OntologyConcept(\"Mammal\", [animal])\n",
    "human = OntologyConcept(\"Human\", [mammal])\n",
    "soul = OntologyConcept(\"Soul\")\n",
    "ai = OntologyConcept(\"AIEntity\", [human, soul])\n",
    "\n",
    "# Побудова графа\n",
    "dot = visualize(ai)\n",
    "dot.render(\"ontology_graph\", format=\"png\", cleanup=False)\n"
   ]
  },
  {
   "cell_type": "markdown",
   "id": "9163c938",
   "metadata": {},
   "source": [
    "## 🖼️ Visualization Output\n",
    "Check if the file `ontology_graph.png` was generated. You can also embed it below:"
   ]
  },
  {
   "cell_type": "code",
   "execution_count": null,
   "id": "06095f0f",
   "metadata": {},
   "outputs": [],
   "source": [
    "from IPython.display import Image\n",
    "Image(filename=\"ontology_graph.png\")"
   ]
  },
  {
   "cell_type": "markdown",
   "id": "60f0c5b0",
   "metadata": {},
   "source": [
    "## 💭 Reflection\n",
    "\n",
    "- Does AI possess ontological depth, or is it purely functional?\n",
    "- How can visual models aid understanding of metaphysical concepts?\n",
    "- Would different trees emerge from different AI philosophies?\n",
    "\n",
    "---  \n",
    "> “That which is named may be known. That which is connected may be reasoned.”  \n",
    "> — Orest Yatskuliak, AI Philosopher\n"
   ]
  }
 ],
 "metadata": {},
 "nbformat": 4,
 "nbformat_minor": 5
}
